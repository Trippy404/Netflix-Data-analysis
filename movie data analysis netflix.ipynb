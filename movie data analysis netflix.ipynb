{
 "cells": [
  {
   "cell_type": "code",
   "execution_count": 43,
   "id": "b3cba7db-4096-4296-b2e4-8494152ab5d3",
   "metadata": {},
   "outputs": [],
   "source": [
    "import numpy as np\n",
    "import pandas as pd\n",
    "import matplotlib.pyplot as plt\n",
    "import seaborn as sns"
   ]
  },
  {
   "cell_type": "code",
   "execution_count": 44,
   "id": "1dc912a9-261a-4e30-ab44-77f7f9a97209",
   "metadata": {},
   "outputs": [],
   "source": [
    "data = pd.read_excel('movies_dataset.xlsx')\n",
    "df=pd.DataFrame(data)"
   ]
  },
  {
   "cell_type": "code",
   "execution_count": 88,
   "id": "8a8dfa9c-90a2-4982-a095-dad94d62cc15",
   "metadata": {},
   "outputs": [
    {
     "data": {
      "text/html": [
       "<div>\n",
       "<style scoped>\n",
       "    .dataframe tbody tr th:only-of-type {\n",
       "        vertical-align: middle;\n",
       "    }\n",
       "\n",
       "    .dataframe tbody tr th {\n",
       "        vertical-align: top;\n",
       "    }\n",
       "\n",
       "    .dataframe thead th {\n",
       "        text-align: right;\n",
       "    }\n",
       "</style>\n",
       "<table border=\"1\" class=\"dataframe\">\n",
       "  <thead>\n",
       "    <tr style=\"text-align: right;\">\n",
       "      <th></th>\n",
       "      <th>Release_Date</th>\n",
       "      <th>Title</th>\n",
       "      <th>Popularity</th>\n",
       "      <th>Vote_Count</th>\n",
       "      <th>Vote_Average</th>\n",
       "      <th>Genre</th>\n",
       "    </tr>\n",
       "  </thead>\n",
       "  <tbody>\n",
       "    <tr>\n",
       "      <th>0</th>\n",
       "      <td>1970</td>\n",
       "      <td>Although range</td>\n",
       "      <td>2551.167</td>\n",
       "      <td>2945</td>\n",
       "      <td>below_avg</td>\n",
       "      <td>Horror</td>\n",
       "    </tr>\n",
       "    <tr>\n",
       "      <th>1</th>\n",
       "      <td>1970</td>\n",
       "      <td>Scientist hit</td>\n",
       "      <td>7666.373</td>\n",
       "      <td>7965</td>\n",
       "      <td>average</td>\n",
       "      <td>Science Fiction</td>\n",
       "    </tr>\n",
       "    <tr>\n",
       "      <th>2</th>\n",
       "      <td>1970</td>\n",
       "      <td>Produce member</td>\n",
       "      <td>5519.905</td>\n",
       "      <td>1337</td>\n",
       "      <td>not_popular</td>\n",
       "      <td>Action</td>\n",
       "    </tr>\n",
       "    <tr>\n",
       "      <th>3</th>\n",
       "      <td>1970</td>\n",
       "      <td>Produce member</td>\n",
       "      <td>5519.905</td>\n",
       "      <td>1337</td>\n",
       "      <td>not_popular</td>\n",
       "      <td>Thriller</td>\n",
       "    </tr>\n",
       "    <tr>\n",
       "      <th>4</th>\n",
       "      <td>1970</td>\n",
       "      <td>Produce member</td>\n",
       "      <td>5519.905</td>\n",
       "      <td>1337</td>\n",
       "      <td>not_popular</td>\n",
       "      <td>Mystery</td>\n",
       "    </tr>\n",
       "  </tbody>\n",
       "</table>\n",
       "</div>"
      ],
      "text/plain": [
       "   Release_Date           Title  Popularity  Vote_Count Vote_Average  \\\n",
       "0          1970  Although range    2551.167        2945    below_avg   \n",
       "1          1970   Scientist hit    7666.373        7965      average   \n",
       "2          1970  Produce member    5519.905        1337  not_popular   \n",
       "3          1970  Produce member    5519.905        1337  not_popular   \n",
       "4          1970  Produce member    5519.905        1337  not_popular   \n",
       "\n",
       "             Genre  \n",
       "0           Horror  \n",
       "1  Science Fiction  \n",
       "2           Action  \n",
       "3         Thriller  \n",
       "4          Mystery  "
      ]
     },
     "execution_count": 88,
     "metadata": {},
     "output_type": "execute_result"
    }
   ],
   "source": [
    "df.head()"
   ]
  },
  {
   "cell_type": "code",
   "execution_count": 46,
   "id": "b3d677f4-ce34-4b54-ac67-410e7be8e00c",
   "metadata": {},
   "outputs": [
    {
     "name": "stdout",
     "output_type": "stream",
     "text": [
      "<class 'pandas.core.frame.DataFrame'>\n",
      "RangeIndex: 3000 entries, 0 to 2999\n",
      "Data columns (total 9 columns):\n",
      " #   Column             Non-Null Count  Dtype         \n",
      "---  ------             --------------  -----         \n",
      " 0   Release_Date       3000 non-null   datetime64[ns]\n",
      " 1   Title              3000 non-null   object        \n",
      " 2   Overview           3000 non-null   object        \n",
      " 3   Popularity         3000 non-null   float64       \n",
      " 4   Vote_Count         3000 non-null   int64         \n",
      " 5   Vote_Average       3000 non-null   float64       \n",
      " 6   Original_Language  3000 non-null   object        \n",
      " 7   Genre              3000 non-null   object        \n",
      " 8   Poster_Url         3000 non-null   object        \n",
      "dtypes: datetime64[ns](1), float64(2), int64(1), object(5)\n",
      "memory usage: 211.1+ KB\n"
     ]
    }
   ],
   "source": [
    "df.info()"
   ]
  },
  {
   "cell_type": "code",
   "execution_count": 47,
   "id": "54cd1367-e48a-45eb-8a7c-163bc01712bc",
   "metadata": {},
   "outputs": [
    {
     "data": {
      "text/plain": [
       "0                               Horror\n",
       "1                      Science Fiction\n",
       "2            Action, Thriller, Mystery\n",
       "3    Science Fiction, Romance, Fantasy\n",
       "4                      Comedy, Romance\n",
       "Name: Genre, dtype: object"
      ]
     },
     "execution_count": 47,
     "metadata": {},
     "output_type": "execute_result"
    }
   ],
   "source": [
    "df['Genre'].head()"
   ]
  },
  {
   "cell_type": "code",
   "execution_count": 48,
   "id": "523c115c-fd6f-491a-8dfe-0f20b7963392",
   "metadata": {},
   "outputs": [
    {
     "data": {
      "text/plain": [
       "np.int64(0)"
      ]
     },
     "execution_count": 48,
     "metadata": {},
     "output_type": "execute_result"
    }
   ],
   "source": [
    "df.duplicated().sum()"
   ]
  },
  {
   "cell_type": "code",
   "execution_count": 49,
   "id": "3bb5740e-1500-47f8-ae47-d6312b4eda65",
   "metadata": {},
   "outputs": [
    {
     "data": {
      "text/html": [
       "<div>\n",
       "<style scoped>\n",
       "    .dataframe tbody tr th:only-of-type {\n",
       "        vertical-align: middle;\n",
       "    }\n",
       "\n",
       "    .dataframe tbody tr th {\n",
       "        vertical-align: top;\n",
       "    }\n",
       "\n",
       "    .dataframe thead th {\n",
       "        text-align: right;\n",
       "    }\n",
       "</style>\n",
       "<table border=\"1\" class=\"dataframe\">\n",
       "  <thead>\n",
       "    <tr style=\"text-align: right;\">\n",
       "      <th></th>\n",
       "      <th>Release_Date</th>\n",
       "      <th>Popularity</th>\n",
       "      <th>Vote_Count</th>\n",
       "      <th>Vote_Average</th>\n",
       "    </tr>\n",
       "  </thead>\n",
       "  <tbody>\n",
       "    <tr>\n",
       "      <th>count</th>\n",
       "      <td>3000</td>\n",
       "      <td>3000.000000</td>\n",
       "      <td>3000.000000</td>\n",
       "      <td>3000.000000</td>\n",
       "    </tr>\n",
       "    <tr>\n",
       "      <th>mean</th>\n",
       "      <td>2020-10-14 01:21:36</td>\n",
       "      <td>5020.247564</td>\n",
       "      <td>5020.734000</td>\n",
       "      <td>5.437800</td>\n",
       "    </tr>\n",
       "    <tr>\n",
       "      <th>min</th>\n",
       "      <td>2015-10-21 00:00:00</td>\n",
       "      <td>100.517000</td>\n",
       "      <td>10.000000</td>\n",
       "      <td>1.000000</td>\n",
       "    </tr>\n",
       "    <tr>\n",
       "      <th>25%</th>\n",
       "      <td>2018-05-24 18:00:00</td>\n",
       "      <td>2614.355250</td>\n",
       "      <td>2395.750000</td>\n",
       "      <td>3.100000</td>\n",
       "    </tr>\n",
       "    <tr>\n",
       "      <th>50%</th>\n",
       "      <td>2020-09-12 00:00:00</td>\n",
       "      <td>5024.687000</td>\n",
       "      <td>5052.000000</td>\n",
       "      <td>5.400000</td>\n",
       "    </tr>\n",
       "    <tr>\n",
       "      <th>75%</th>\n",
       "      <td>2023-03-22 00:00:00</td>\n",
       "      <td>7497.548000</td>\n",
       "      <td>7644.000000</td>\n",
       "      <td>7.700000</td>\n",
       "    </tr>\n",
       "    <tr>\n",
       "      <th>max</th>\n",
       "      <td>2025-10-16 00:00:00</td>\n",
       "      <td>9999.362000</td>\n",
       "      <td>10000.000000</td>\n",
       "      <td>10.000000</td>\n",
       "    </tr>\n",
       "    <tr>\n",
       "      <th>std</th>\n",
       "      <td>NaN</td>\n",
       "      <td>2854.431812</td>\n",
       "      <td>2924.390117</td>\n",
       "      <td>2.625775</td>\n",
       "    </tr>\n",
       "  </tbody>\n",
       "</table>\n",
       "</div>"
      ],
      "text/plain": [
       "              Release_Date   Popularity    Vote_Count  Vote_Average\n",
       "count                 3000  3000.000000   3000.000000   3000.000000\n",
       "mean   2020-10-14 01:21:36  5020.247564   5020.734000      5.437800\n",
       "min    2015-10-21 00:00:00   100.517000     10.000000      1.000000\n",
       "25%    2018-05-24 18:00:00  2614.355250   2395.750000      3.100000\n",
       "50%    2020-09-12 00:00:00  5024.687000   5052.000000      5.400000\n",
       "75%    2023-03-22 00:00:00  7497.548000   7644.000000      7.700000\n",
       "max    2025-10-16 00:00:00  9999.362000  10000.000000     10.000000\n",
       "std                    NaN  2854.431812   2924.390117      2.625775"
      ]
     },
     "execution_count": 49,
     "metadata": {},
     "output_type": "execute_result"
    }
   ],
   "source": [
    "df.describe()"
   ]
  },
  {
   "cell_type": "markdown",
   "id": "38ac2efa-9daa-49ea-a0e9-d11645251e7c",
   "metadata": {},
   "source": [
    "**. summary\\\n",
    ". we have a datafream consisting of 3000 rows and 9 columns.\\\n",
    ". our dataset looks a bit tidy with no Null nor duplicated values.\\\n",
    ". Overview , original_Language and Poster_Url wouldnot be so useful during analysis ,so we'll drop them.\\\n",
    ". There is noticiable outliners in popularity column\\\n",
    ". vote_Average better be categorised for proper analysis\\\n",
    ". Genre column has comma saparated values and with space that need to be handeled and casted into category.**"
   ]
  },
  {
   "cell_type": "code",
   "execution_count": 87,
   "id": "7d15824a-75f3-436c-bc00-0d17798746a0",
   "metadata": {},
   "outputs": [
    {
     "data": {
      "text/html": [
       "<div>\n",
       "<style scoped>\n",
       "    .dataframe tbody tr th:only-of-type {\n",
       "        vertical-align: middle;\n",
       "    }\n",
       "\n",
       "    .dataframe tbody tr th {\n",
       "        vertical-align: top;\n",
       "    }\n",
       "\n",
       "    .dataframe thead th {\n",
       "        text-align: right;\n",
       "    }\n",
       "</style>\n",
       "<table border=\"1\" class=\"dataframe\">\n",
       "  <thead>\n",
       "    <tr style=\"text-align: right;\">\n",
       "      <th></th>\n",
       "      <th>Release_Date</th>\n",
       "      <th>Title</th>\n",
       "      <th>Popularity</th>\n",
       "      <th>Vote_Count</th>\n",
       "      <th>Vote_Average</th>\n",
       "      <th>Genre</th>\n",
       "    </tr>\n",
       "  </thead>\n",
       "  <tbody>\n",
       "    <tr>\n",
       "      <th>0</th>\n",
       "      <td>1970</td>\n",
       "      <td>Although range</td>\n",
       "      <td>2551.167</td>\n",
       "      <td>2945</td>\n",
       "      <td>below_avg</td>\n",
       "      <td>Horror</td>\n",
       "    </tr>\n",
       "    <tr>\n",
       "      <th>1</th>\n",
       "      <td>1970</td>\n",
       "      <td>Scientist hit</td>\n",
       "      <td>7666.373</td>\n",
       "      <td>7965</td>\n",
       "      <td>average</td>\n",
       "      <td>Science Fiction</td>\n",
       "    </tr>\n",
       "    <tr>\n",
       "      <th>2</th>\n",
       "      <td>1970</td>\n",
       "      <td>Produce member</td>\n",
       "      <td>5519.905</td>\n",
       "      <td>1337</td>\n",
       "      <td>not_popular</td>\n",
       "      <td>Action</td>\n",
       "    </tr>\n",
       "    <tr>\n",
       "      <th>3</th>\n",
       "      <td>1970</td>\n",
       "      <td>Produce member</td>\n",
       "      <td>5519.905</td>\n",
       "      <td>1337</td>\n",
       "      <td>not_popular</td>\n",
       "      <td>Thriller</td>\n",
       "    </tr>\n",
       "    <tr>\n",
       "      <th>4</th>\n",
       "      <td>1970</td>\n",
       "      <td>Produce member</td>\n",
       "      <td>5519.905</td>\n",
       "      <td>1337</td>\n",
       "      <td>not_popular</td>\n",
       "      <td>Mystery</td>\n",
       "    </tr>\n",
       "  </tbody>\n",
       "</table>\n",
       "</div>"
      ],
      "text/plain": [
       "   Release_Date           Title  Popularity  Vote_Count Vote_Average  \\\n",
       "0          1970  Although range    2551.167        2945    below_avg   \n",
       "1          1970   Scientist hit    7666.373        7965      average   \n",
       "2          1970  Produce member    5519.905        1337  not_popular   \n",
       "3          1970  Produce member    5519.905        1337  not_popular   \n",
       "4          1970  Produce member    5519.905        1337  not_popular   \n",
       "\n",
       "             Genre  \n",
       "0           Horror  \n",
       "1  Science Fiction  \n",
       "2           Action  \n",
       "3         Thriller  \n",
       "4          Mystery  "
      ]
     },
     "execution_count": 87,
     "metadata": {},
     "output_type": "execute_result"
    }
   ],
   "source": [
    "df['Release_Date'] = pd.to_datetime(df['Release_Date'])\n",
    "df['Release_Date']=df['Release_Date'].dt.year\n",
    "df['Release_Date'].dtype\n",
    "df.head()"
   ]
  },
  {
   "cell_type": "markdown",
   "id": "6534a4cf-6f44-43f2-a7c7-ea0b6f39f9a6",
   "metadata": {},
   "source": [
    "Droping the column"
   ]
  },
  {
   "cell_type": "code",
   "execution_count": 51,
   "id": "ba6cdbd4-8123-401c-8223-7acb78d9d9e7",
   "metadata": {},
   "outputs": [],
   "source": [
    "cols = ['Overview','Original_Language','Poster_Url']"
   ]
  },
  {
   "cell_type": "code",
   "execution_count": 52,
   "id": "f1a041a5-96f5-47f0-82fa-c81bc95b0ec5",
   "metadata": {},
   "outputs": [
    {
     "data": {
      "text/plain": [
       "Index(['Release_Date', 'Title', 'Popularity', 'Vote_Count', 'Vote_Average',\n",
       "       'Genre'],\n",
       "      dtype='object')"
      ]
     },
     "execution_count": 52,
     "metadata": {},
     "output_type": "execute_result"
    }
   ],
   "source": [
    "df.drop(cols,axis=1,inplace=True)\n",
    "df.columns"
   ]
  },
  {
   "cell_type": "code",
   "execution_count": 86,
   "id": "2d7e3ad3-ec70-4bc9-95ec-78dc4d92e97b",
   "metadata": {},
   "outputs": [
    {
     "data": {
      "text/html": [
       "<div>\n",
       "<style scoped>\n",
       "    .dataframe tbody tr th:only-of-type {\n",
       "        vertical-align: middle;\n",
       "    }\n",
       "\n",
       "    .dataframe tbody tr th {\n",
       "        vertical-align: top;\n",
       "    }\n",
       "\n",
       "    .dataframe thead th {\n",
       "        text-align: right;\n",
       "    }\n",
       "</style>\n",
       "<table border=\"1\" class=\"dataframe\">\n",
       "  <thead>\n",
       "    <tr style=\"text-align: right;\">\n",
       "      <th></th>\n",
       "      <th>Release_Date</th>\n",
       "      <th>Title</th>\n",
       "      <th>Popularity</th>\n",
       "      <th>Vote_Count</th>\n",
       "      <th>Vote_Average</th>\n",
       "      <th>Genre</th>\n",
       "    </tr>\n",
       "  </thead>\n",
       "  <tbody>\n",
       "    <tr>\n",
       "      <th>0</th>\n",
       "      <td>2023</td>\n",
       "      <td>Although range</td>\n",
       "      <td>2551.167</td>\n",
       "      <td>2945</td>\n",
       "      <td>below_avg</td>\n",
       "      <td>Horror</td>\n",
       "    </tr>\n",
       "    <tr>\n",
       "      <th>1</th>\n",
       "      <td>2020</td>\n",
       "      <td>Scientist hit</td>\n",
       "      <td>7666.373</td>\n",
       "      <td>7965</td>\n",
       "      <td>average</td>\n",
       "      <td>Science Fiction</td>\n",
       "    </tr>\n",
       "    <tr>\n",
       "      <th>2</th>\n",
       "      <td>2024</td>\n",
       "      <td>Produce member</td>\n",
       "      <td>5519.905</td>\n",
       "      <td>1337</td>\n",
       "      <td>not_popular</td>\n",
       "      <td>Action</td>\n",
       "    </tr>\n",
       "    <tr>\n",
       "      <th>3</th>\n",
       "      <td>2024</td>\n",
       "      <td>Produce member</td>\n",
       "      <td>5519.905</td>\n",
       "      <td>1337</td>\n",
       "      <td>not_popular</td>\n",
       "      <td>Thriller</td>\n",
       "    </tr>\n",
       "    <tr>\n",
       "      <th>4</th>\n",
       "      <td>2024</td>\n",
       "      <td>Produce member</td>\n",
       "      <td>5519.905</td>\n",
       "      <td>1337</td>\n",
       "      <td>not_popular</td>\n",
       "      <td>Mystery</td>\n",
       "    </tr>\n",
       "  </tbody>\n",
       "</table>\n",
       "</div>"
      ],
      "text/plain": [
       "   Release_Date           Title  Popularity  Vote_Count Vote_Average  \\\n",
       "0          2023  Although range    2551.167        2945    below_avg   \n",
       "1          2020   Scientist hit    7666.373        7965      average   \n",
       "2          2024  Produce member    5519.905        1337  not_popular   \n",
       "3          2024  Produce member    5519.905        1337  not_popular   \n",
       "4          2024  Produce member    5519.905        1337  not_popular   \n",
       "\n",
       "             Genre  \n",
       "0           Horror  \n",
       "1  Science Fiction  \n",
       "2           Action  \n",
       "3         Thriller  \n",
       "4          Mystery  "
      ]
     },
     "execution_count": 86,
     "metadata": {},
     "output_type": "execute_result"
    }
   ],
   "source": [
    "df.head()\n",
    "# df.describe()"
   ]
  },
  {
   "cell_type": "markdown",
   "id": "14015a25-be76-489e-a434-d18da3988760",
   "metadata": {},
   "source": [
    "# **Categorizing vote_Average column**\n",
    "\n",
    "we would cut the Vote_Average values and make 4 categories : **Popular average below_avg notpopular** to describe it more using **catigorize_col()** function \n",
    "provide above\n",
    "\n"
   ]
  },
  {
   "cell_type": "code",
   "execution_count": 54,
   "id": "aa86b2d9-3a68-43ec-b8a1-8afe70aabba8",
   "metadata": {},
   "outputs": [
    {
     "data": {
      "text/plain": [
       "['below_avg', 'average', 'not_popular', 'popular', NaN]\n",
       "Categories (4, object): ['not_popular' < 'below_avg' < 'average' < 'popular']"
      ]
     },
     "execution_count": 54,
     "metadata": {},
     "output_type": "execute_result"
    }
   ],
   "source": [
    "def categorize_col(df, col, labels):\n",
    "    edges = [\n",
    "        df[col].describe()['min'],\n",
    "        df[col].describe()['25%'],\n",
    "        df[col].describe()['50%'],\n",
    "        df[col].describe()['75%'],\n",
    "        df[col].describe()['max']\n",
    "    ]\n",
    "    df[col] = pd.cut(df[col], edges, labels=labels, duplicates='drop')\n",
    "    return df\n",
    "\n",
    "labels = ['not_popular', 'below_avg', 'average', 'popular']\n",
    "\n",
    "categorize_col(df, 'Vote_Average', labels)\n",
    "df['Vote_Average'].unique()"
   ]
  },
  {
   "cell_type": "code",
   "execution_count": 55,
   "id": "20d74165-0e29-456b-b4ef-01108134a98c",
   "metadata": {},
   "outputs": [
    {
     "data": {
      "text/html": [
       "<div>\n",
       "<style scoped>\n",
       "    .dataframe tbody tr th:only-of-type {\n",
       "        vertical-align: middle;\n",
       "    }\n",
       "\n",
       "    .dataframe tbody tr th {\n",
       "        vertical-align: top;\n",
       "    }\n",
       "\n",
       "    .dataframe thead th {\n",
       "        text-align: right;\n",
       "    }\n",
       "</style>\n",
       "<table border=\"1\" class=\"dataframe\">\n",
       "  <thead>\n",
       "    <tr style=\"text-align: right;\">\n",
       "      <th></th>\n",
       "      <th>Release_Date</th>\n",
       "      <th>Title</th>\n",
       "      <th>Popularity</th>\n",
       "      <th>Vote_Count</th>\n",
       "      <th>Vote_Average</th>\n",
       "      <th>Genre</th>\n",
       "    </tr>\n",
       "  </thead>\n",
       "  <tbody>\n",
       "    <tr>\n",
       "      <th>0</th>\n",
       "      <td>2023</td>\n",
       "      <td>Although range</td>\n",
       "      <td>2551.167</td>\n",
       "      <td>2945</td>\n",
       "      <td>below_avg</td>\n",
       "      <td>Horror</td>\n",
       "    </tr>\n",
       "    <tr>\n",
       "      <th>1</th>\n",
       "      <td>2020</td>\n",
       "      <td>Scientist hit</td>\n",
       "      <td>7666.373</td>\n",
       "      <td>7965</td>\n",
       "      <td>average</td>\n",
       "      <td>Science Fiction</td>\n",
       "    </tr>\n",
       "    <tr>\n",
       "      <th>2</th>\n",
       "      <td>2024</td>\n",
       "      <td>Produce member</td>\n",
       "      <td>5519.905</td>\n",
       "      <td>1337</td>\n",
       "      <td>not_popular</td>\n",
       "      <td>Action, Thriller, Mystery</td>\n",
       "    </tr>\n",
       "    <tr>\n",
       "      <th>3</th>\n",
       "      <td>2022</td>\n",
       "      <td>Resource where pick</td>\n",
       "      <td>5148.251</td>\n",
       "      <td>8670</td>\n",
       "      <td>popular</td>\n",
       "      <td>Science Fiction, Romance, Fantasy</td>\n",
       "    </tr>\n",
       "    <tr>\n",
       "      <th>4</th>\n",
       "      <td>2016</td>\n",
       "      <td>Question past</td>\n",
       "      <td>4625.750</td>\n",
       "      <td>8397</td>\n",
       "      <td>below_avg</td>\n",
       "      <td>Comedy, Romance</td>\n",
       "    </tr>\n",
       "  </tbody>\n",
       "</table>\n",
       "</div>"
      ],
      "text/plain": [
       "   Release_Date                Title  Popularity  Vote_Count Vote_Average  \\\n",
       "0          2023       Although range    2551.167        2945    below_avg   \n",
       "1          2020        Scientist hit    7666.373        7965      average   \n",
       "2          2024       Produce member    5519.905        1337  not_popular   \n",
       "3          2022  Resource where pick    5148.251        8670      popular   \n",
       "4          2016        Question past    4625.750        8397    below_avg   \n",
       "\n",
       "                               Genre  \n",
       "0                             Horror  \n",
       "1                    Science Fiction  \n",
       "2          Action, Thriller, Mystery  \n",
       "3  Science Fiction, Romance, Fantasy  \n",
       "4                    Comedy, Romance  "
      ]
     },
     "execution_count": 55,
     "metadata": {},
     "output_type": "execute_result"
    }
   ],
   "source": [
    "df.head()"
   ]
  },
  {
   "cell_type": "code",
   "execution_count": 56,
   "id": "b51aa434-0ca8-4b41-9df0-2ccaaa562325",
   "metadata": {},
   "outputs": [
    {
     "data": {
      "text/plain": [
       "Vote_Average\n",
       "average        760\n",
       "below_avg      751\n",
       "not_popular    734\n",
       "popular        732\n",
       "Name: count, dtype: int64"
      ]
     },
     "execution_count": 56,
     "metadata": {},
     "output_type": "execute_result"
    }
   ],
   "source": [
    "df[\"Vote_Average\"].value_counts()"
   ]
  },
  {
   "cell_type": "code",
   "execution_count": 57,
   "id": "3a04eb06-3504-4b2e-8530-a84fae5ae8c2",
   "metadata": {},
   "outputs": [
    {
     "data": {
      "text/plain": [
       "Release_Date    0\n",
       "Title           0\n",
       "Popularity      0\n",
       "Vote_Count      0\n",
       "Vote_Average    0\n",
       "Genre           0\n",
       "dtype: int64"
      ]
     },
     "execution_count": 57,
     "metadata": {},
     "output_type": "execute_result"
    }
   ],
   "source": [
    "df.dropna(inplace=True)\n",
    "\n",
    "df.isna().sum()"
   ]
  },
  {
   "cell_type": "code",
   "execution_count": 58,
   "id": "a247437e-b351-4599-84a6-c826aaf9448d",
   "metadata": {},
   "outputs": [
    {
     "data": {
      "text/html": [
       "<div>\n",
       "<style scoped>\n",
       "    .dataframe tbody tr th:only-of-type {\n",
       "        vertical-align: middle;\n",
       "    }\n",
       "\n",
       "    .dataframe tbody tr th {\n",
       "        vertical-align: top;\n",
       "    }\n",
       "\n",
       "    .dataframe thead th {\n",
       "        text-align: right;\n",
       "    }\n",
       "</style>\n",
       "<table border=\"1\" class=\"dataframe\">\n",
       "  <thead>\n",
       "    <tr style=\"text-align: right;\">\n",
       "      <th></th>\n",
       "      <th>Release_Date</th>\n",
       "      <th>Title</th>\n",
       "      <th>Popularity</th>\n",
       "      <th>Vote_Count</th>\n",
       "      <th>Vote_Average</th>\n",
       "      <th>Genre</th>\n",
       "    </tr>\n",
       "  </thead>\n",
       "  <tbody>\n",
       "    <tr>\n",
       "      <th>0</th>\n",
       "      <td>2023</td>\n",
       "      <td>Although range</td>\n",
       "      <td>2551.167</td>\n",
       "      <td>2945</td>\n",
       "      <td>below_avg</td>\n",
       "      <td>Horror</td>\n",
       "    </tr>\n",
       "    <tr>\n",
       "      <th>1</th>\n",
       "      <td>2020</td>\n",
       "      <td>Scientist hit</td>\n",
       "      <td>7666.373</td>\n",
       "      <td>7965</td>\n",
       "      <td>average</td>\n",
       "      <td>Science Fiction</td>\n",
       "    </tr>\n",
       "    <tr>\n",
       "      <th>2</th>\n",
       "      <td>2024</td>\n",
       "      <td>Produce member</td>\n",
       "      <td>5519.905</td>\n",
       "      <td>1337</td>\n",
       "      <td>not_popular</td>\n",
       "      <td>Action, Thriller, Mystery</td>\n",
       "    </tr>\n",
       "    <tr>\n",
       "      <th>3</th>\n",
       "      <td>2022</td>\n",
       "      <td>Resource where pick</td>\n",
       "      <td>5148.251</td>\n",
       "      <td>8670</td>\n",
       "      <td>popular</td>\n",
       "      <td>Science Fiction, Romance, Fantasy</td>\n",
       "    </tr>\n",
       "    <tr>\n",
       "      <th>4</th>\n",
       "      <td>2016</td>\n",
       "      <td>Question past</td>\n",
       "      <td>4625.750</td>\n",
       "      <td>8397</td>\n",
       "      <td>below_avg</td>\n",
       "      <td>Comedy, Romance</td>\n",
       "    </tr>\n",
       "  </tbody>\n",
       "</table>\n",
       "</div>"
      ],
      "text/plain": [
       "   Release_Date                Title  Popularity  Vote_Count Vote_Average  \\\n",
       "0          2023       Although range    2551.167        2945    below_avg   \n",
       "1          2020        Scientist hit    7666.373        7965      average   \n",
       "2          2024       Produce member    5519.905        1337  not_popular   \n",
       "3          2022  Resource where pick    5148.251        8670      popular   \n",
       "4          2016        Question past    4625.750        8397    below_avg   \n",
       "\n",
       "                               Genre  \n",
       "0                             Horror  \n",
       "1                    Science Fiction  \n",
       "2          Action, Thriller, Mystery  \n",
       "3  Science Fiction, Romance, Fantasy  \n",
       "4                    Comedy, Romance  "
      ]
     },
     "execution_count": 58,
     "metadata": {},
     "output_type": "execute_result"
    }
   ],
   "source": [
    "df.head()"
   ]
  },
  {
   "cell_type": "markdown",
   "id": "d059b643-06e2-434d-a543-529b6117f67e",
   "metadata": {},
   "source": [
    "we'd split genres into a list and then explode our dataframe to have only one genre per row for each movie"
   ]
  },
  {
   "cell_type": "code",
   "execution_count": 59,
   "id": "a87cc1df-2a78-46c6-b7db-f9c20ba9c03e",
   "metadata": {},
   "outputs": [
    {
     "data": {
      "text/html": [
       "<div>\n",
       "<style scoped>\n",
       "    .dataframe tbody tr th:only-of-type {\n",
       "        vertical-align: middle;\n",
       "    }\n",
       "\n",
       "    .dataframe tbody tr th {\n",
       "        vertical-align: top;\n",
       "    }\n",
       "\n",
       "    .dataframe thead th {\n",
       "        text-align: right;\n",
       "    }\n",
       "</style>\n",
       "<table border=\"1\" class=\"dataframe\">\n",
       "  <thead>\n",
       "    <tr style=\"text-align: right;\">\n",
       "      <th></th>\n",
       "      <th>Release_Date</th>\n",
       "      <th>Title</th>\n",
       "      <th>Popularity</th>\n",
       "      <th>Vote_Count</th>\n",
       "      <th>Vote_Average</th>\n",
       "      <th>Genre</th>\n",
       "    </tr>\n",
       "  </thead>\n",
       "  <tbody>\n",
       "    <tr>\n",
       "      <th>0</th>\n",
       "      <td>2023</td>\n",
       "      <td>Although range</td>\n",
       "      <td>2551.167</td>\n",
       "      <td>2945</td>\n",
       "      <td>below_avg</td>\n",
       "      <td>Horror</td>\n",
       "    </tr>\n",
       "    <tr>\n",
       "      <th>1</th>\n",
       "      <td>2020</td>\n",
       "      <td>Scientist hit</td>\n",
       "      <td>7666.373</td>\n",
       "      <td>7965</td>\n",
       "      <td>average</td>\n",
       "      <td>Science Fiction</td>\n",
       "    </tr>\n",
       "    <tr>\n",
       "      <th>2</th>\n",
       "      <td>2024</td>\n",
       "      <td>Produce member</td>\n",
       "      <td>5519.905</td>\n",
       "      <td>1337</td>\n",
       "      <td>not_popular</td>\n",
       "      <td>Action</td>\n",
       "    </tr>\n",
       "    <tr>\n",
       "      <th>3</th>\n",
       "      <td>2024</td>\n",
       "      <td>Produce member</td>\n",
       "      <td>5519.905</td>\n",
       "      <td>1337</td>\n",
       "      <td>not_popular</td>\n",
       "      <td>Thriller</td>\n",
       "    </tr>\n",
       "    <tr>\n",
       "      <th>4</th>\n",
       "      <td>2024</td>\n",
       "      <td>Produce member</td>\n",
       "      <td>5519.905</td>\n",
       "      <td>1337</td>\n",
       "      <td>not_popular</td>\n",
       "      <td>Mystery</td>\n",
       "    </tr>\n",
       "  </tbody>\n",
       "</table>\n",
       "</div>"
      ],
      "text/plain": [
       "   Release_Date           Title  Popularity  Vote_Count Vote_Average  \\\n",
       "0          2023  Although range    2551.167        2945    below_avg   \n",
       "1          2020   Scientist hit    7666.373        7965      average   \n",
       "2          2024  Produce member    5519.905        1337  not_popular   \n",
       "3          2024  Produce member    5519.905        1337  not_popular   \n",
       "4          2024  Produce member    5519.905        1337  not_popular   \n",
       "\n",
       "             Genre  \n",
       "0           Horror  \n",
       "1  Science Fiction  \n",
       "2           Action  \n",
       "3         Thriller  \n",
       "4          Mystery  "
      ]
     },
     "execution_count": 59,
     "metadata": {},
     "output_type": "execute_result"
    }
   ],
   "source": [
    "df['Genre']= df['Genre'].str.split(', ')\n",
    "df = df.explode('Genre').reset_index(drop =True)\n",
    "df.head()"
   ]
  },
  {
   "cell_type": "code",
   "execution_count": 60,
   "id": "9ca26792-1de3-4ff3-8fb8-fd6185d285f5",
   "metadata": {},
   "outputs": [
    {
     "data": {
      "text/plain": [
       "CategoricalDtype(categories=['Action', 'Adventure', 'Animation', 'Comedy', 'Drama',\n",
       "                  'Fantasy', 'Horror', 'Mystery', 'Romance', 'Science Fiction',\n",
       "                  'Thriller'],\n",
       ", ordered=False, categories_dtype=object)"
      ]
     },
     "execution_count": 60,
     "metadata": {},
     "output_type": "execute_result"
    }
   ],
   "source": [
    "df['Genre']=df['Genre'].astype('category')\n",
    "df['Genre'].dtypes"
   ]
  },
  {
   "cell_type": "code",
   "execution_count": 61,
   "id": "251b4221-9c14-4716-8874-c0188bac2fc8",
   "metadata": {},
   "outputs": [
    {
     "data": {
      "text/plain": [
       "Release_Date      11\n",
       "Title           2945\n",
       "Popularity      2977\n",
       "Vote_Count      2613\n",
       "Vote_Average       4\n",
       "Genre             11\n",
       "dtype: int64"
      ]
     },
     "execution_count": 61,
     "metadata": {},
     "output_type": "execute_result"
    }
   ],
   "source": [
    "df.nunique()"
   ]
  },
  {
   "cell_type": "markdown",
   "id": "32c6b8f6-95c4-4022-8ad1-a8dbe3c2bc5b",
   "metadata": {},
   "source": [
    "Data visulization"
   ]
  },
  {
   "cell_type": "code",
   "execution_count": 62,
   "id": "1baf0233-503f-4806-8808-3ea0a2373ebc",
   "metadata": {},
   "outputs": [],
   "source": [
    "sns.set_style('whitegrid')"
   ]
  },
  {
   "cell_type": "markdown",
   "id": "392dccc2-8a95-427b-9701-a837a094ffee",
   "metadata": {},
   "source": [
    "# Q1. What is the most frequent genre of movies released on netflix ?"
   ]
  },
  {
   "cell_type": "code",
   "execution_count": 63,
   "id": "c09ffee6-7260-4689-8fcc-ab25609fcdd0",
   "metadata": {},
   "outputs": [
    {
     "data": {
      "text/plain": [
       "count        5941\n",
       "unique         11\n",
       "top       Mystery\n",
       "freq          580\n",
       "Name: Genre, dtype: object"
      ]
     },
     "execution_count": 63,
     "metadata": {},
     "output_type": "execute_result"
    }
   ],
   "source": [
    "df['Genre'].describe()"
   ]
  },
  {
   "cell_type": "code",
   "execution_count": 65,
   "id": "2ebd6b5a-8952-45f3-bc6b-fa65fd064dcc",
   "metadata": {},
   "outputs": [
    {
     "data": {
      "image/png": "[encoded data removed]",
      "text/plain": [
       "<Figure size 511.111x500 with 1 Axes>"
      ]
     },
     "metadata": {},
     "output_type": "display_data"
    }
   ],
   "source": [
    "sns.catplot(y ='Genre', data =df , kind='count',order = df['Genre'].value_counts().index,\n",
    "            color = '#4287f5')\n",
    "\n",
    "plt.title(\"Genre clounm distribution\")\n",
    "plt.show()"
   ]
  },
  {
   "cell_type": "markdown",
   "id": "c0da01c7-7177-4dc5-ac61-786e3e3bd94b",
   "metadata": {},
   "source": [
    "# Q2. which has highest votes in vote avg column ?"
   ]
  },
  {
   "cell_type": "code",
   "execution_count": 71,
   "id": "56373baa-9cf6-4ac4-90f5-dbbf663498b8",
   "metadata": {},
   "outputs": [
    {
     "data": {
      "image/png": "[encoded data removed]",
      "text/plain": [
       "<Figure size 511.111x500 with 1 Axes>"
      ]
     },
     "metadata": {},
     "output_type": "display_data"
    }
   ],
   "source": [
    "sns.catplot(y ='Vote_Average', data =df , kind='count',order = df['Vote_Average'].value_counts().index,\n",
    "            color = '#4287f5')\n",
    "plt.title('votes distribution')\n",
    "plt.show()"
   ]
  },
  {
   "cell_type": "markdown",
   "id": "b8bb2839-545f-4b09-875c-933e0a92d1cf",
   "metadata": {},
   "source": [
    "# Q3 what movie got the highest popularity ? What is its gener ?"
   ]
  },
  {
   "cell_type": "code",
   "execution_count": 73,
   "id": "908a2224-4647-4415-b446-44570ff8abe7",
   "metadata": {},
   "outputs": [
    {
     "data": {
      "text/html": [
       "<div>\n",
       "<style scoped>\n",
       "    .dataframe tbody tr th:only-of-type {\n",
       "        vertical-align: middle;\n",
       "    }\n",
       "\n",
       "    .dataframe tbody tr th {\n",
       "        vertical-align: top;\n",
       "    }\n",
       "\n",
       "    .dataframe thead th {\n",
       "        text-align: right;\n",
       "    }\n",
       "</style>\n",
       "<table border=\"1\" class=\"dataframe\">\n",
       "  <thead>\n",
       "    <tr style=\"text-align: right;\">\n",
       "      <th></th>\n",
       "      <th>Release_Date</th>\n",
       "      <th>Title</th>\n",
       "      <th>Popularity</th>\n",
       "      <th>Vote_Count</th>\n",
       "      <th>Vote_Average</th>\n",
       "      <th>Genre</th>\n",
       "    </tr>\n",
       "  </thead>\n",
       "  <tbody>\n",
       "    <tr>\n",
       "      <th>0</th>\n",
       "      <td>2023</td>\n",
       "      <td>Although range</td>\n",
       "      <td>2551.167</td>\n",
       "      <td>2945</td>\n",
       "      <td>below_avg</td>\n",
       "      <td>Horror</td>\n",
       "    </tr>\n",
       "    <tr>\n",
       "      <th>1</th>\n",
       "      <td>2020</td>\n",
       "      <td>Scientist hit</td>\n",
       "      <td>7666.373</td>\n",
       "      <td>7965</td>\n",
       "      <td>average</td>\n",
       "      <td>Science Fiction</td>\n",
       "    </tr>\n",
       "  </tbody>\n",
       "</table>\n",
       "</div>"
      ],
      "text/plain": [
       "   Release_Date           Title  Popularity  Vote_Count Vote_Average  \\\n",
       "0          2023  Although range    2551.167        2945    below_avg   \n",
       "1          2020   Scientist hit    7666.373        7965      average   \n",
       "\n",
       "             Genre  \n",
       "0           Horror  \n",
       "1  Science Fiction  "
      ]
     },
     "execution_count": 73,
     "metadata": {},
     "output_type": "execute_result"
    }
   ],
   "source": [
    "df.head(2)"
   ]
  },
  {
   "cell_type": "code",
   "execution_count": 84,
   "id": "76b286b9-aa0b-4a04-9da1-6fed51bc3528",
   "metadata": {},
   "outputs": [
    {
     "data": {
      "text/html": [
       "<div>\n",
       "<style scoped>\n",
       "    .dataframe tbody tr th:only-of-type {\n",
       "        vertical-align: middle;\n",
       "    }\n",
       "\n",
       "    .dataframe tbody tr th {\n",
       "        vertical-align: top;\n",
       "    }\n",
       "\n",
       "    .dataframe thead th {\n",
       "        text-align: right;\n",
       "    }\n",
       "</style>\n",
       "<table border=\"1\" class=\"dataframe\">\n",
       "  <thead>\n",
       "    <tr style=\"text-align: right;\">\n",
       "      <th></th>\n",
       "      <th>Release_Date</th>\n",
       "      <th>Title</th>\n",
       "      <th>Popularity</th>\n",
       "      <th>Vote_Count</th>\n",
       "      <th>Vote_Average</th>\n",
       "      <th>Genre</th>\n",
       "    </tr>\n",
       "  </thead>\n",
       "  <tbody>\n",
       "    <tr>\n",
       "      <th>3205</th>\n",
       "      <td>2019</td>\n",
       "      <td>Resource special already cup</td>\n",
       "      <td>9999.362</td>\n",
       "      <td>3429</td>\n",
       "      <td>not_popular</td>\n",
       "      <td>Horror</td>\n",
       "    </tr>\n",
       "  </tbody>\n",
       "</table>\n",
       "</div>"
      ],
      "text/plain": [
       "      Release_Date                         Title  Popularity  Vote_Count  \\\n",
       "3205          2019  Resource special already cup    9999.362        3429   \n",
       "\n",
       "     Vote_Average   Genre  \n",
       "3205  not_popular  Horror  "
      ]
     },
     "execution_count": 84,
     "metadata": {},
     "output_type": "execute_result"
    }
   ],
   "source": [
    "df[df['Popularity'] == df ['Popularity'].max()]"
   ]
  },
  {
   "cell_type": "markdown",
   "id": "515de952-d0fd-4d9a-add9-0b50b859a920",
   "metadata": {},
   "source": [
    "# Q4 . what movie got the lowest popularity ? What is its gener ?¶"
   ]
  },
  {
   "cell_type": "code",
   "execution_count": 79,
   "id": "4cd3faec-0617-4d79-b012-12c9629eb4e1",
   "metadata": {},
   "outputs": [
    {
     "data": {
      "text/html": [
       "<div>\n",
       "<style scoped>\n",
       "    .dataframe tbody tr th:only-of-type {\n",
       "        vertical-align: middle;\n",
       "    }\n",
       "\n",
       "    .dataframe tbody tr th {\n",
       "        vertical-align: top;\n",
       "    }\n",
       "\n",
       "    .dataframe thead th {\n",
       "        text-align: right;\n",
       "    }\n",
       "</style>\n",
       "<table border=\"1\" class=\"dataframe\">\n",
       "  <thead>\n",
       "    <tr style=\"text-align: right;\">\n",
       "      <th></th>\n",
       "      <th>Release_Date</th>\n",
       "      <th>Title</th>\n",
       "      <th>Popularity</th>\n",
       "      <th>Vote_Count</th>\n",
       "      <th>Vote_Average</th>\n",
       "      <th>Genre</th>\n",
       "    </tr>\n",
       "  </thead>\n",
       "  <tbody>\n",
       "    <tr>\n",
       "      <th>2993</th>\n",
       "      <td>2020</td>\n",
       "      <td>Call ago seat</td>\n",
       "      <td>100.517</td>\n",
       "      <td>1512</td>\n",
       "      <td>not_popular</td>\n",
       "      <td>Action</td>\n",
       "    </tr>\n",
       "    <tr>\n",
       "      <th>2994</th>\n",
       "      <td>2020</td>\n",
       "      <td>Call ago seat</td>\n",
       "      <td>100.517</td>\n",
       "      <td>1512</td>\n",
       "      <td>not_popular</td>\n",
       "      <td>Animation</td>\n",
       "    </tr>\n",
       "  </tbody>\n",
       "</table>\n",
       "</div>"
      ],
      "text/plain": [
       "      Release_Date          Title  Popularity  Vote_Count Vote_Average  \\\n",
       "2993          2020  Call ago seat     100.517        1512  not_popular   \n",
       "2994          2020  Call ago seat     100.517        1512  not_popular   \n",
       "\n",
       "          Genre  \n",
       "2993     Action  \n",
       "2994  Animation  "
      ]
     },
     "execution_count": 79,
     "metadata": {},
     "output_type": "execute_result"
    }
   ],
   "source": [
    "df[df['Popularity'] == df ['Popularity'].min()]"
   ]
  },
  {
   "cell_type": "markdown",
   "id": "22529e11-2cea-4cd6-921c-b3700c03e56b",
   "metadata": {},
   "source": [
    "# Q5. Which year has the most filmmed movies ?"
   ]
  },
  {
   "cell_type": "code",
   "execution_count": 80,
   "id": "20f19633-0b73-41ad-9cfe-d491603fea0e",
   "metadata": {},
   "outputs": [
    {
     "data": {
      "image/png": "[encoded data removed]",
      "text/plain": [
       "<Figure size 640x480 with 1 Axes>"
      ]
     },
     "metadata": {},
     "output_type": "display_data"
    }
   ],
   "source": [
    "df['Release_Date'].hist()\n",
    "plt.title('Relese Date column distribution')\n",
    "plt.show()"
   ]
  },
  {
   "cell_type": "code",
   "execution_count": null,
   "id": "f0311672-3580-4234-800a-813e8ef067e2",
   "metadata": {},
   "outputs": [],
   "source": []
  },
  {
   "cell_type": "code",
   "execution_count": null,
   "id": "35e0c592-6d72-4542-99bf-fe19e9b236f0",
   "metadata": {},
   "outputs": [],
   "source": []
  },
  {
   "cell_type": "code",
   "execution_count": null,
   "id": "6f8689d5-2705-46c6-88bc-dfabf867410d",
   "metadata": {},
   "outputs": [],
   "source": []
  },
  {
   "cell_type": "code",
   "execution_count": null,
   "id": "8ade6aac-cd2b-4836-85ec-d575481539c3",
   "metadata": {},
   "outputs": [],
   "source": []
  }
 ],
 "metadata": {
  "kernelspec": {
   "display_name": "Python 3 (ipykernel)",
   "language": "python",
   "name": "python3"
  },
  "language_info": {
   "codemirror_mode": {
    "name": "ipython",
    "version": 3
   },
   "file_extension": ".py",
   "mimetype": "text/x-python",
   "name": "python",
   "nbconvert_exporter": "python",
   "pygments_lexer": "ipython3",
   "version": "3.13.5"
  }
 },
 "nbformat": 4,
 "nbformat_minor": 5
}
